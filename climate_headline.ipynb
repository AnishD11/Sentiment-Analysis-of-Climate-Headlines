{
 "cells": [
  {
   "cell_type": "code",
   "execution_count": 39,
   "metadata": {},
   "outputs": [
    {
     "name": "stderr",
     "output_type": "stream",
     "text": [
      "[nltk_data] Downloading package stopwords to\n",
      "[nltk_data]     C:\\Users\\rupak\\AppData\\Roaming\\nltk_data...\n",
      "[nltk_data]   Package stopwords is already up-to-date!\n",
      "[nltk_data] Downloading package wordnet to\n",
      "[nltk_data]     C:\\Users\\rupak\\AppData\\Roaming\\nltk_data...\n"
     ]
    },
    {
     "data": {
      "text/plain": [
       "True"
      ]
     },
     "execution_count": 39,
     "metadata": {},
     "output_type": "execute_result"
    }
   ],
   "source": [
    "import numpy as np\n",
    "import pandas as pd\n",
    "import matplotlib.pyplot as plt\n",
    "\n",
    "import re\n",
    "import contractions\n",
    "from bs4 import BeautifulSoup\n",
    "import nltk\n",
    "from nltk.stem import WordNetLemmatizer,PorterStemmer,LancasterStemmer\n",
    "from nltk.corpus import stopwords\n",
    "nltk.download('stopwords')\n",
    "nltk.download('wordnet')"
   ]
  },
  {
   "cell_type": "code",
   "execution_count": 45,
   "metadata": {},
   "outputs": [
    {
     "name": "stdout",
     "output_type": "stream",
     "text": [
      "I can't do this anymore  <head> ?? I am running away now\n"
     ]
    }
   ],
   "source": [
    "test = \"I can't do this anymore 1 <head> ?? I am running away now\"\n",
    "contractions.fix(test)\n",
    "text = re.sub(r'[^\\w\\s!?]', ' ', test)\n",
    "text = re.sub(r'\\d', '', test)\n",
    "print(text)"
   ]
  },
  {
   "cell_type": "code",
   "execution_count": 48,
   "metadata": {},
   "outputs": [],
   "source": [
    "lemmatizer = WordNetLemmatizer()\n",
    "\n",
    "def clean_data(data):\n",
    "   #expand contractions\n",
    "   text = contractions.fix(data)\n",
    "   #remove URLs\n",
    "   text = re.sub(r'https?://\\S+|www\\.\\S+|http?://\\S+', ' ', text)\n",
    "   #remove HTML tags\n",
    "   text = BeautifulSoup(text, \"html.parser\").get_text()\n",
    "   #remove numbers\n",
    "   text = re.sub(r'[0-9]', '', text)\n",
    "   #remove punctuations except ! and ?\n",
    "   text = re.sub(r'[^\\w\\s!?]', '', text)\n",
    "   #lowercase\n",
    "   text = text.lower()\n",
    "   #split\n",
    "   text = text.split()\n",
    "   #lemmatize and remove stopwords\n",
    "   text = [lemmatizer.lemmatize(word) for word in text if word not in stopwords.words('english') and len(word) > 1]\n",
    "\n",
    "\n",
    "\n",
    "   return ' '.join(text)"
   ]
  },
  {
   "cell_type": "code",
   "execution_count": 49,
   "metadata": {},
   "outputs": [
    {
     "data": {
      "text/plain": [
       "'cannot anymore ?? running away'"
      ]
     },
     "execution_count": 49,
     "metadata": {},
     "output_type": "execute_result"
    }
   ],
   "source": [
    "clean_data(test)"
   ]
  },
  {
   "cell_type": "code",
   "execution_count": null,
   "metadata": {},
   "outputs": [],
   "source": []
  }
 ],
 "metadata": {
  "kernelspec": {
   "display_name": "NLP",
   "language": "python",
   "name": "python3"
  },
  "language_info": {
   "codemirror_mode": {
    "name": "ipython",
    "version": 3
   },
   "file_extension": ".py",
   "mimetype": "text/x-python",
   "name": "python",
   "nbconvert_exporter": "python",
   "pygments_lexer": "ipython3",
   "version": "3.11.5"
  }
 },
 "nbformat": 4,
 "nbformat_minor": 2
}
