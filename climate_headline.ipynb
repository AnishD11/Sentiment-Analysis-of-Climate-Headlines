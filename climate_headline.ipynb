{
 "cells": [
  {
   "cell_type": "code",
   "execution_count": 19,
   "metadata": {},
   "outputs": [
    {
     "name": "stderr",
     "output_type": "stream",
     "text": [
      "[nltk_data] Downloading package stopwords to\n",
      "[nltk_data]     C:\\Users\\rupak\\AppData\\Roaming\\nltk_data...\n",
      "[nltk_data]   Package stopwords is already up-to-date!\n",
      "[nltk_data] Downloading package wordnet to\n",
      "[nltk_data]     C:\\Users\\rupak\\AppData\\Roaming\\nltk_data...\n",
      "[nltk_data]   Package wordnet is already up-to-date!\n",
      "[nltk_data] Downloading package punkt_tab to\n",
      "[nltk_data]     C:\\Users\\rupak\\AppData\\Roaming\\nltk_data...\n",
      "[nltk_data]   Package punkt_tab is already up-to-date!\n",
      "[nltk_data] Downloading package averaged_perceptron_tagger_eng to\n",
      "[nltk_data]     C:\\Users\\rupak\\AppData\\Roaming\\nltk_data...\n",
      "[nltk_data]   Package averaged_perceptron_tagger_eng is already up-to-\n",
      "[nltk_data]       date!\n"
     ]
    },
    {
     "data": {
      "text/plain": [
       "True"
      ]
     },
     "execution_count": 19,
     "metadata": {},
     "output_type": "execute_result"
    }
   ],
   "source": [
    "import numpy as np\n",
    "import pandas as pd\n",
    "import matplotlib.pyplot as plt\n",
    "\n",
    "import re\n",
    "import contractions\n",
    "from bs4 import BeautifulSoup\n",
    "import nltk\n",
    "from nltk.stem import WordNetLemmatizer,PorterStemmer,LancasterStemmer\n",
    "from nltk.corpus import stopwords\n",
    "from nltk.tokenize import word_tokenize\n",
    "from nltk import pos_tag\n",
    "from nltk.corpus import wordnet\n",
    "nltk.download('stopwords')\n",
    "nltk.download('wordnet')\n",
    "nltk.download('punkt_tab')\n",
    "nltk.download('averaged_perceptron_tagger_eng')"
   ]
  },
  {
   "cell_type": "code",
   "execution_count": 20,
   "metadata": {},
   "outputs": [
    {
     "name": "stdout",
     "output_type": "stream",
     "text": [
      "I cannot do this anymore  <head> ?? I am running away now\n"
     ]
    }
   ],
   "source": [
    "test = \"I can't do this anymore 1 <head> ?? I am running away now\"\n",
    "test= contractions.fix(test)\n",
    "text = re.sub(r'[^\\w\\s!?]', ' ', test)\n",
    "text = re.sub(r'\\d', '', test)\n",
    "print(text)"
   ]
  },
  {
   "cell_type": "code",
   "execution_count": 39,
   "metadata": {},
   "outputs": [
    {
     "name": "stdout",
     "output_type": "stream",
     "text": [
      "not anymore run away not without reason act quickly\n"
     ]
    }
   ],
   "source": [
    "lemmatizer = WordNetLemmatizer()\n",
    "\n",
    "\n",
    "#function to map NLTK POS tags to WordNet POS tags\n",
    "def get_wordnet_pos(nltk_pos):\n",
    "    if nltk_pos.startswith('J'):  # Adjective\n",
    "        return 'a'\n",
    "    elif nltk_pos.startswith('V'):  # Verb\n",
    "        return 'v'\n",
    "    elif nltk_pos.startswith('N'):  # Noun\n",
    "        return 'n'\n",
    "    elif nltk_pos.startswith('R'):  # Adverb\n",
    "        return 'r'\n",
    "    else:\n",
    "        return wordnet.NOUN  # Default to noun\n",
    "\n",
    "#preprocessing function\n",
    "def clean_data(data):\n",
    "    #expand contractions\n",
    "    text = contractions.fix(data)\n",
    "    \n",
    "    #remove URLs\n",
    "    text = re.sub(r'https?://\\S+|www\\.\\S+', ' ', text)\n",
    "    \n",
    "    #remove HTML tags\n",
    "    text = BeautifulSoup(text, \"html.parser\").get_text()\n",
    "    \n",
    "    #remove numbers\n",
    "    text = re.sub(r'[0-9]', '', text)\n",
    "    \n",
    "    #remove punctuations except ! and ?\n",
    "    text = re.sub(r'[^\\w\\s!?]', '', text)\n",
    "    \n",
    "    #ronvert to lowercase\n",
    "    text = text.lower()\n",
    "    \n",
    "    # tokenize text\n",
    "    text_tokens = word_tokenize(text)\n",
    "\n",
    "    #remove stopwords but keep 'not' and 'no'\n",
    "    stop_words = set(stopwords.words('english'))\n",
    "    stop_words.discard('no')  # Retain 'no'\n",
    "    stop_words.discard('not')  # Retain 'not'\n",
    "    \n",
    "    text_tokens = [word for word in text_tokens if word not in stop_words]\n",
    "    \n",
    "    #POS tagging\n",
    "    pos_tags = pos_tag(text_tokens)\n",
    "    \n",
    "    #lemmatize based on POS and remove stopwords\n",
    "    text = [\n",
    "        lemmatizer.lemmatize(word, pos=get_wordnet_pos(pos)) \n",
    "        for word, pos in pos_tags \n",
    "        if len(word) > 1  # Ensure word length is >1 (remove single characters)\n",
    "    ]\n",
    "    \n",
    "    # Return the cleaned text\n",
    "    return ' '.join(text)\n",
    "\n",
    "# Example use case\n",
    "text = \"I can't do this anymore. I'm running away now, but not without a reason. He was acting quickly.\"\n",
    "cleaned_text = clean_data(text)\n",
    "print(cleaned_text)"
   ]
  },
  {
   "cell_type": "code",
   "execution_count": 35,
   "metadata": {},
   "outputs": [
    {
     "data": {
      "text/plain": [
       "'strongly'"
      ]
     },
     "execution_count": 35,
     "metadata": {},
     "output_type": "execute_result"
    }
   ],
   "source": [
    "lemmatizer.lemmatize(\"strongly\",pos=\"r\")"
   ]
  },
  {
   "cell_type": "code",
   "execution_count": 36,
   "metadata": {},
   "outputs": [
    {
     "data": {
      "text/plain": [
       "'cannot anymore ?? run away'"
      ]
     },
     "execution_count": 36,
     "metadata": {},
     "output_type": "execute_result"
    }
   ],
   "source": [
    "test = \"I can't do this anymore 1 <head> ?? I am running away now\"\n",
    "clean_data(test)"
   ]
  },
  {
   "cell_type": "code",
   "execution_count": 14,
   "metadata": {},
   "outputs": [
    {
     "name": "stdout",
     "output_type": "stream",
     "text": [
      "cat run quickly park\n"
     ]
    }
   ],
   "source": [
    "data = \"The cats are running quickly in the park!\"\n",
    "cleaned_data = clean_data(data)\n",
    "print(cleaned_data)"
   ]
  },
  {
   "cell_type": "code",
   "execution_count": null,
   "metadata": {},
   "outputs": [],
   "source": []
  }
 ],
 "metadata": {
  "kernelspec": {
   "display_name": "NLP",
   "language": "python",
   "name": "python3"
  },
  "language_info": {
   "codemirror_mode": {
    "name": "ipython",
    "version": 3
   },
   "file_extension": ".py",
   "mimetype": "text/x-python",
   "name": "python",
   "nbconvert_exporter": "python",
   "pygments_lexer": "ipython3",
   "version": "3.11.5"
  }
 },
 "nbformat": 4,
 "nbformat_minor": 2
}
